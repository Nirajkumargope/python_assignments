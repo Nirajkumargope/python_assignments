{
 "cells": [
  {
   "cell_type": "markdown",
   "id": "e279aa12",
   "metadata": {},
   "source": [
    "# Assessment on Lec 3 & 4 "
   ]
  },
  {
   "cell_type": "markdown",
   "id": "fcc0d2e1",
   "metadata": {},
   "source": [
    "Conditional Exc.\n",
    "*\tLoops\n",
    "*\tBitwise operator\n",
    "*\tFunctions\n",
    "*\tException handling"
   ]
  },
  {
   "cell_type": "markdown",
   "id": "e5100525",
   "metadata": {},
   "source": [
    "# 1. Given a list of positive and negative numbers, find the maximum subarray sum.\n",
    "Test cases:\n",
    "Input: [-2, -3, 4, -1, -2, 1, 5, -3]\n",
    "Ouput: 4 + (-1) + (-2) + 1 + 5 = 7\n",
    "\n",
    "Input: [1, 2, 3, 4, 5]\n",
    "Output: 1 + 2 + 3 + 4 + 5 = 15\n",
    "\n",
    "Input: [-1, -4, -2, 1, 5, -1, -6, 1]\n",
    "Output: 1 + 5 = 6"
   ]
  },
  {
   "cell_type": "code",
   "execution_count": 109,
   "id": "1cb964e7",
   "metadata": {
    "ExecuteTime": {
     "end_time": "2022-01-15T11:51:34.487617Z",
     "start_time": "2022-01-15T11:51:34.466606Z"
    }
   },
   "outputs": [
    {
     "name": "stdout",
     "output_type": "stream",
     "text": [
      "1\n",
      "6\n",
      "4\n",
      "-2\n",
      "-6\n",
      "-7\n"
     ]
    }
   ],
   "source": [
    "#here goes the code\n",
    "#this ans is wrong, actually i'm not getting the contex of que.\n",
    "nput=[-1, -4, -2, 1, 5, -1, -6, 1]\n",
    "xput=set(nput)\n",
    "su=0\n",
    "for i in xput:\n",
    "    su=su+i\n",
    "print(su)"
   ]
  },
  {
   "cell_type": "code",
   "execution_count": 107,
   "id": "a443a783",
   "metadata": {},
   "outputs": [
    {
     "data": {
      "text/plain": [
       "{1, 2, 3, 4, 5, 6, 7, 8, 98}"
      ]
     },
     "execution_count": 107,
     "metadata": {},
     "output_type": "execute_result"
    }
   ],
   "source": [
    "x=[1,3,4,5,2,4,5,7,8,98,6,5,6,3]\n",
    "y=set(x)\n",
    "y"
   ]
  },
  {
   "cell_type": "markdown",
   "id": "75e07d34",
   "metadata": {},
   "source": [
    "# 2. Given two sorted arrays of size m and n, find their intersection using loop and conditional statement\n",
    "\n",
    "Test cases:\n",
    "Input : arr1[] = [1, 3, 4, 5, 7]\n",
    "        arr2[] = [2, 3, 5, 6]\n",
    "Output :\n",
    "         Intersection : {3, 5}\n",
    "\n",
    "Input : arr1[] = [2, 5, 6]\n",
    "        arr2[] = [4, 6, 8, 10] \n",
    "Output:\n",
    "         Intersection : [6]"
   ]
  },
  {
   "cell_type": "code",
   "execution_count": 1,
   "id": "6f7412b6",
   "metadata": {
    "ExecuteTime": {
     "end_time": "2022-01-15T11:51:34.487617Z",
     "start_time": "2022-01-15T11:51:34.466606Z"
    }
   },
   "outputs": [
    {
     "name": "stdout",
     "output_type": "stream",
     "text": [
      "[6]\n"
     ]
    }
   ],
   "source": [
    "#here goes the code\n",
    "arr1 = [2, 5, 6]\n",
    "arr2 = [4, 6, 8, 10]\n",
    "result= []\n",
    "for i in range(len(arr1)):\n",
    "    for j in range(len(arr2)):\n",
    "         if arr1[i]==arr2[j]:\n",
    "            result.append(arr1[i])\n",
    "print(result)\n",
    "   "
   ]
  },
  {
   "cell_type": "markdown",
   "id": "24ed012f",
   "metadata": {},
   "source": [
    "### 3. write a Python program to count Even and Odd numbers in a List using List conprehension"
   ]
  },
  {
   "cell_type": "code",
   "execution_count": 33,
   "id": "0e89e459",
   "metadata": {
    "ExecuteTime": {
     "end_time": "2022-01-15T11:51:34.487617Z",
     "start_time": "2022-01-15T11:51:34.466606Z"
    }
   },
   "outputs": [
    {
     "name": "stdout",
     "output_type": "stream",
     "text": [
      "numbers of even nos are : 5\n",
      "numbers of odd nos are : 8\n"
     ]
    }
   ],
   "source": [
    "#here goes the code\n",
    "list1=[1,2,3,4,5,6,7,8,9,33,45,67,44]\n",
    "count_even=0\n",
    "count_odd=0\n",
    "for i in list1:\n",
    "    if i%2==0:\n",
    "        count_even+=1\n",
    "    else:\n",
    "        count_odd+=1\n",
    "print('numbers of even nos are :',count_even)\n",
    "print('numbers of odd nos are :',count_odd)\n"
   ]
  },
  {
   "cell_type": "markdown",
   "id": "1fe774ff",
   "metadata": {},
   "source": [
    "###  4. Program to print half Diamond star pattern\n",
    "Input: N = 3\n",
    "* Output:\n",
    "* **o**\n",
    "* **oo**\n",
    "* **ooo**\n",
    "* **oo**\n",
    "* **o**"
   ]
  },
  {
   "cell_type": "code",
   "execution_count": 93,
   "id": "1ec699b0",
   "metadata": {
    "ExecuteTime": {
     "end_time": "2022-01-15T11:51:34.487617Z",
     "start_time": "2022-01-15T11:51:34.466606Z"
    }
   },
   "outputs": [
    {
     "name": "stdout",
     "output_type": "stream",
     "text": [
      "enter num: 3\n",
      "*\n",
      "**\n",
      "***\n",
      "**\n",
      "*\n"
     ]
    }
   ],
   "source": [
    "#here goes the code\n",
    "N= int(input(\"enter num: \"))\n",
    "for i in range(N):\n",
    "    for j in range(0, i + 1):\n",
    "        print(\"*\", end = \"\")\n",
    "    print()\n",
    "for i in range(1, N):\n",
    "    for j in range(i, N):\n",
    "        print(\"*\", end = \"\")\n",
    "    print()"
   ]
  },
  {
   "cell_type": "markdown",
   "id": "a6d023c1",
   "metadata": {},
   "source": [
    "### 5. Given an integer, , perform the following conditional actions:\n",
    "\n",
    "* If  is odd, print Weird\n",
    "* If  is even and in the inclusive range of  to , print Not Weird\n",
    "* If  is even and in the inclusive range of  to , print Weird\n",
    "* If  is even and greater than , print Not Weird"
   ]
  },
  {
   "cell_type": "code",
   "execution_count": 4,
   "id": "ed201390",
   "metadata": {
    "ExecuteTime": {
     "end_time": "2022-01-15T11:51:34.487617Z",
     "start_time": "2022-01-15T11:51:34.466606Z"
    }
   },
   "outputs": [
    {
     "name": "stdout",
     "output_type": "stream",
     "text": [
      "enter your integer: 17\n",
      "Weird\n"
     ]
    }
   ],
   "source": [
    "#here goes the code\n",
    "n = int(input(\"enter your integer: \"))\n",
    "\n",
    "if n % 2 !=0:\n",
    "    print(\"Weird\")\n",
    "elif n%2 !=0 and 2<=n<=30:\n",
    "    print('not weird')\n",
    "elif n%2 ==0 and 2<=n<=30:\n",
    "    print('weird')\n",
    "elif n%2 == 0 and n>30:\n",
    "    print('not weird')\n",
    "\n",
    "    \n"
   ]
  },
  {
   "cell_type": "markdown",
   "id": "69825ebd",
   "metadata": {},
   "source": [
    "### 6. Find the 2nd highest element in a list.\n",
    "* input - [1,2,3,4,5,6]\n",
    "* output - 5 "
   ]
  },
  {
   "cell_type": "code",
   "execution_count": 20,
   "id": "b57d79da",
   "metadata": {
    "ExecuteTime": {
     "end_time": "2022-01-15T11:51:34.487617Z",
     "start_time": "2022-01-15T11:51:34.466606Z"
    }
   },
   "outputs": [
    {
     "data": {
      "text/plain": [
       "66"
      ]
     },
     "execution_count": 20,
     "metadata": {},
     "output_type": "execute_result"
    }
   ],
   "source": [
    "#here goes the code\n",
    "list2=[1,2,3,12,34,66,88,11,4,5,6,7,8,]\n",
    "list2.sort()\n",
    "list2[-2]\n",
    "\n"
   ]
  },
  {
   "cell_type": "code",
   "execution_count": 21,
   "id": "f73a8b4a",
   "metadata": {},
   "outputs": [
    {
     "name": "stdout",
     "output_type": "stream",
     "text": [
      "2nd highest:  66\n"
     ]
    }
   ],
   "source": [
    "list2=[1,2,3,12,34,66,88,11,4,5,6,7,8,]\n",
    "print('2nd highest: ', sorted(list2)[-2])"
   ]
  },
  {
   "cell_type": "markdown",
   "id": "ee9358c7",
   "metadata": {},
   "source": [
    "###  7. Write a program to wrap the string(S) into a paragraph of width(W) .\n",
    "* input - **S** =  ABCDEFGH, **W** = 4\n",
    "* output - \n",
    "* **ABCD**\n",
    "* **EFGH**"
   ]
  },
  {
   "cell_type": "code",
   "execution_count": 4,
   "id": "1eb83149",
   "metadata": {
    "ExecuteTime": {
     "end_time": "2022-01-15T11:51:34.487617Z",
     "start_time": "2022-01-15T11:51:34.466606Z"
    }
   },
   "outputs": [
    {
     "name": "stdout",
     "output_type": "stream",
     "text": [
      "enter your strings for wrap: ABCDEFGH\n",
      "enter len to change para4\n"
     ]
    },
    {
     "ename": "AttributeError",
     "evalue": "'int' object has no attribute 'strip'",
     "output_type": "error",
     "traceback": [
      "\u001b[1;31m---------------------------------------------------------------------------\u001b[0m",
      "\u001b[1;31mAttributeError\u001b[0m                            Traceback (most recent call last)",
      "\u001b[1;32m~\\AppData\\Local\\Temp/ipykernel_8568/1991085817.py\u001b[0m in \u001b[0;36m<module>\u001b[1;34m\u001b[0m\n\u001b[0;32m      2\u001b[0m \u001b[1;32mimport\u001b[0m \u001b[0mtextwrap\u001b[0m\u001b[1;33m\u001b[0m\u001b[1;33m\u001b[0m\u001b[0m\n\u001b[0;32m      3\u001b[0m \u001b[0ms\u001b[0m\u001b[1;33m=\u001b[0m \u001b[0minput\u001b[0m\u001b[1;33m(\u001b[0m\u001b[1;34m\"enter your strings for wrap: \"\u001b[0m\u001b[1;33m)\u001b[0m\u001b[1;33m\u001b[0m\u001b[1;33m\u001b[0m\u001b[0m\n\u001b[1;32m----> 4\u001b[1;33m \u001b[0mw\u001b[0m \u001b[1;33m=\u001b[0m \u001b[0mint\u001b[0m\u001b[1;33m(\u001b[0m\u001b[0minput\u001b[0m\u001b[1;33m(\u001b[0m\u001b[1;34m\"enter len to change para\"\u001b[0m\u001b[1;33m)\u001b[0m\u001b[1;33m)\u001b[0m\u001b[1;33m.\u001b[0m\u001b[0mstrip\u001b[0m\u001b[1;33m(\u001b[0m\u001b[1;33m)\u001b[0m\u001b[1;33m\u001b[0m\u001b[1;33m\u001b[0m\u001b[0m\n\u001b[0m\u001b[0;32m      5\u001b[0m \u001b[0mprint\u001b[0m\u001b[1;33m(\u001b[0m\u001b[0mtextwrap\u001b[0m \u001b[1;33m,\u001b[0m \u001b[0mfill\u001b[0m\u001b[1;33m(\u001b[0m\u001b[0ms\u001b[0m\u001b[1;33m,\u001b[0m\u001b[0mw\u001b[0m\u001b[1;33m)\u001b[0m\u001b[1;33m)\u001b[0m\u001b[1;33m\u001b[0m\u001b[1;33m\u001b[0m\u001b[0m\n",
      "\u001b[1;31mAttributeError\u001b[0m: 'int' object has no attribute 'strip'"
     ]
    }
   ],
   "source": [
    "#here goes the code\n",
    "import textwrap\n",
    "s= input(\"enter your strings for wrap: \")\n",
    "w = int(input(\"enter len to change para\")).strip()\n",
    "print(textwrap , fill(s,w))"
   ]
  },
  {
   "cell_type": "markdown",
   "id": "407b4469",
   "metadata": {},
   "source": [
    "### 8. Write a program to reverse the words in a string\n",
    "* input - \"Hello python learners how are you\"\n",
    "* output - \"you are how learners python Hello\""
   ]
  },
  {
   "cell_type": "code",
   "execution_count": 2,
   "id": "de87d515",
   "metadata": {
    "ExecuteTime": {
     "end_time": "2022-01-15T11:51:34.487617Z",
     "start_time": "2022-01-15T11:51:34.466606Z"
    }
   },
   "outputs": [
    {
     "name": "stdout",
     "output_type": "stream",
     "text": [
      "enter you text: niraj how are you\n",
      "you are how niraj\n"
     ]
    }
   ],
   "source": [
    "#here goes the code\n",
    "str1 = input(\"enter you text: \")\n",
    "str2 = str1.split()\n",
    "str3 = list(reversed(str2))\n",
    "print(\" \".join(str3))"
   ]
  },
  {
   "cell_type": "code",
   "execution_count": 6,
   "id": "d4787b69",
   "metadata": {},
   "outputs": [
    {
     "name": "stdout",
     "output_type": "stream",
     "text": [
      "enter you text: bbdb khsbcbc hkcbkbdd\n",
      "hkcbkbdd khsbcbc bbdb\n"
     ]
    }
   ],
   "source": [
    "str1 = input(\"enter you text: \").split()\n",
    "str3 = list(reversed(str1))\n",
    "print(\" \".join(str3))"
   ]
  },
  {
   "cell_type": "markdown",
   "id": "00878aeb",
   "metadata": {},
   "source": [
    "### 9. Using While loop find the factorial of a number?"
   ]
  },
  {
   "cell_type": "code",
   "execution_count": 3,
   "id": "045fad35",
   "metadata": {
    "ExecuteTime": {
     "end_time": "2022-01-15T11:51:34.487617Z",
     "start_time": "2022-01-15T11:51:34.466606Z"
    }
   },
   "outputs": [
    {
     "name": "stdout",
     "output_type": "stream",
     "text": [
      "enter num for fact: 5\n",
      "120\n"
     ]
    }
   ],
   "source": [
    "#here goes the code\n",
    "x= int(input(\"enter num for fact: \"))\n",
    "fact = 1\n",
    "while x>=1:\n",
    "    fact=fact*x\n",
    "    x=x-1\n",
    "print(fact)\n",
    "    "
   ]
  },
  {
   "cell_type": "markdown",
   "id": "704641ba",
   "metadata": {},
   "source": [
    "### 10. Using function find the factorial of a number?"
   ]
  },
  {
   "cell_type": "code",
   "execution_count": 15,
   "id": "9d280911",
   "metadata": {
    "ExecuteTime": {
     "end_time": "2022-01-15T11:51:34.487617Z",
     "start_time": "2022-01-15T11:51:34.466606Z"
    }
   },
   "outputs": [],
   "source": [
    "#here goes the code\n",
    "def factorial(x):\n",
    "    num = 1\n",
    "    while x >= 1:\n",
    "        num = num * x\n",
    "        x =x - 1\n",
    "    return num\n"
   ]
  },
  {
   "cell_type": "code",
   "execution_count": 28,
   "id": "6952225e",
   "metadata": {},
   "outputs": [],
   "source": [
    "def fact2(x):\n",
    "    f=1\n",
    "    for i in range(1, x+1):\n",
    "        f *= i\n",
    "    print ('factorial :',f)\n"
   ]
  },
  {
   "cell_type": "markdown",
   "id": "e34c3575",
   "metadata": {},
   "source": [
    "### 11. Create a function to find the x power y without using pow function?\n",
    "* input - pow_func(2,4)\n",
    "* output - 16"
   ]
  },
  {
   "cell_type": "code",
   "execution_count": 32,
   "id": "7eb05863",
   "metadata": {
    "ExecuteTime": {
     "end_time": "2022-01-15T11:51:34.487617Z",
     "start_time": "2022-01-15T11:51:34.466606Z"
    }
   },
   "outputs": [
    {
     "name": "stdout",
     "output_type": "stream",
     "text": [
      "enter the base integer: 2\n",
      "enter power you want: 3\n",
      "8\n"
     ]
    }
   ],
   "source": [
    "#here goes the code\n",
    "x= int(input(\"enter the base integer: \"))\n",
    "y= int(input(\"enter power you want: \"))\n",
    "result= x**y\n",
    "print(result)"
   ]
  },
  {
   "cell_type": "markdown",
   "id": "e1025466",
   "metadata": {},
   "source": [
    "### 12. Write a program that reads a year from the user and displays a message indicating whether or not it is a leap year.\n",
    "* If it is a leap year print **YES** else print **NO**\n",
    "* Any year that is divisible by 400 is a leap year.\n",
    "* Of the remaining years, any year that is divisible by 100 is not a leap year.\n",
    "* Of the remaining years, any year that is divisible by 4 is a leap year.\n",
    "* All other years are not leap years."
   ]
  },
  {
   "cell_type": "code",
   "execution_count": 45,
   "id": "4e70e1c8",
   "metadata": {
    "ExecuteTime": {
     "end_time": "2022-01-15T11:51:34.487617Z",
     "start_time": "2022-01-15T11:51:34.466606Z"
    }
   },
   "outputs": [
    {
     "name": "stdout",
     "output_type": "stream",
     "text": [
      "enter year to check: 2400\n",
      "yes ! 2400 is leap year\n"
     ]
    }
   ],
   "source": [
    "#here goes the code\n",
    "year=int(input(\"enter year to check: \"))\n",
    "if year%400==0:\n",
    "    print(\"yes !\",year,\"is leap year\")\n",
    "elif year%4==0 and year%100!=0:\n",
    "    print(\"yeap!\",year,'is leap year')\n",
    "else:\n",
    "    print('sorry it is not')"
   ]
  },
  {
   "cell_type": "markdown",
   "id": "474a2018",
   "metadata": {},
   "source": [
    "### 13. write a function that returns a list containing every possible sublist of a list. \n",
    "* For example, the **sublists of [1, 2, 3]** are *[], [1], [2], [3], [1, 2], [2, 3] and [1, 2, 3]*"
   ]
  },
  {
   "cell_type": "code",
   "execution_count": 3,
   "id": "0dbac895",
   "metadata": {
    "ExecuteTime": {
     "end_time": "2022-01-15T11:51:34.487617Z",
     "start_time": "2022-01-15T11:51:34.466606Z"
    }
   },
   "outputs": [],
   "source": [
    "#here goes the code"
   ]
  },
  {
   "cell_type": "markdown",
   "id": "178bf0e7",
   "metadata": {},
   "source": [
    "### 14. v. Create a program that reads two strings from the user, determines whether or not they are anagrams, and reports the result.\n",
    "* Two words are anagrams if they contain all of the same letters, but in a different order. For example, “evil” and “live” are anagrams because each contains one e, one i, one l, and one v"
   ]
  },
  {
   "cell_type": "code",
   "execution_count": 7,
   "id": "06dc1c39",
   "metadata": {
    "ExecuteTime": {
     "end_time": "2022-01-15T11:51:34.487617Z",
     "start_time": "2022-01-15T11:51:34.466606Z"
    }
   },
   "outputs": [
    {
     "name": "stdout",
     "output_type": "stream",
     "text": [
      "enter first string: evil\n",
      "enter second string: live\n",
      "The strings are anagrams.\n"
     ]
    }
   ],
   "source": [
    "#here goes the code\n",
    "x=input(\"enter first string: \")\n",
    "y=input(\"enter second string: \")\n",
    "if(sorted(x)== sorted(y)):\n",
    "        print(\"The strings are anagrams.\")\n",
    "else:\n",
    "        print(\"The strings aren't anagrams.\") "
   ]
  },
  {
   "cell_type": "code",
   "execution_count": 56,
   "id": "27320d0e",
   "metadata": {},
   "outputs": [
    {
     "name": "stdout",
     "output_type": "stream",
     "text": [
      "enter first string: NIRAJ\n",
      "['A', 'I', 'J', 'N', 'R']\n"
     ]
    },
    {
     "data": {
      "text/plain": [
       "'niraj'"
      ]
     },
     "execution_count": 56,
     "metadata": {},
     "output_type": "execute_result"
    }
   ],
   "source": [
    "x=input(\"enter first string: \")\n",
    "print(sorted(x))\n",
    "x.lower()"
   ]
  },
  {
   "cell_type": "markdown",
   "id": "b3d14464",
   "metadata": {},
   "source": [
    "### 15. Extend your program from Exercise 14 so that it is able to check if two phrases are anagrams.\n",
    "* For example, “**William Shakespeare**” and “**I am a weakish speller**” are anagrams when capitalization and spacing are ignored.\n",
    "*  Your program should ignore **capitalization**, **punctuation** marks and **spacing** when making the determination"
   ]
  },
  {
   "cell_type": "code",
   "execution_count": 73,
   "id": "40bdc4cc",
   "metadata": {
    "ExecuteTime": {
     "end_time": "2022-01-15T11:51:34.487617Z",
     "start_time": "2022-01-15T11:51:34.466606Z"
    }
   },
   "outputs": [
    {
     "name": "stdout",
     "output_type": "stream",
     "text": [
      "enter first string: I am a weakish speller\n",
      "enter first string: William Shakespeare\n",
      "The strings are anagrams.\n"
     ]
    }
   ],
   "source": [
    "#here goes the code\n",
    "x=input(\"enter first string: \").replace(' ','').lower()\n",
    "y=input(\"enter first string: \").replace(' ','').lower()\n",
    "if sorted(x)== sorted(y):\n",
    "        print(\"The strings are anagrams.\")\n",
    "else:\n",
    "        print(\"The strings aren't anagrams.\") "
   ]
  },
  {
   "cell_type": "code",
   "execution_count": 67,
   "id": "1f6fa705",
   "metadata": {},
   "outputs": [
    {
     "name": "stdout",
     "output_type": "stream",
     "text": [
      "enter first string: Ia Am NiRAjjj\n"
     ]
    },
    {
     "data": {
      "text/plain": [
       "'iaamnirajjj'"
      ]
     },
     "execution_count": 67,
     "metadata": {},
     "output_type": "execute_result"
    }
   ],
   "source": [
    "###hit and run check\n",
    "x=input(\"enter first string: \").replace(' ','').lower()\n",
    "\n",
    "#a=x.lower().split()\n",
    "x\n",
    "\n"
   ]
  },
  {
   "cell_type": "code",
   "execution_count": null,
   "id": "9eac22d3",
   "metadata": {},
   "outputs": [],
   "source": []
  }
 ],
 "metadata": {
  "hide_input": false,
  "kernelspec": {
   "display_name": "Python 3 (ipykernel)",
   "language": "python",
   "name": "python3"
  },
  "language_info": {
   "codemirror_mode": {
    "name": "ipython",
    "version": 3
   },
   "file_extension": ".py",
   "mimetype": "text/x-python",
   "name": "python",
   "nbconvert_exporter": "python",
   "pygments_lexer": "ipython3",
   "version": "3.9.7"
  },
  "toc": {
   "base_numbering": 1,
   "nav_menu": {},
   "number_sections": true,
   "sideBar": true,
   "skip_h1_title": false,
   "title_cell": "Table of Contents",
   "title_sidebar": "Contents",
   "toc_cell": false,
   "toc_position": {
    "height": "calc(100% - 180px)",
    "left": "10px",
    "top": "150px",
    "width": "846.964px"
   },
   "toc_section_display": true,
   "toc_window_display": true
  }
 },
 "nbformat": 4,
 "nbformat_minor": 5
}
