{
 "cells": [
  {
   "cell_type": "markdown",
   "metadata": {},
   "source": [
    "# Assignment 6"
   ]
  },
  {
   "cell_type": "markdown",
   "metadata": {},
   "source": [
    "#### Q 1  Write a Python function to multiply all the numbers in a list. Go to the editor\n",
    "#### Sample List : (8, 2, 3, -1, 7)\n",
    "#### Expected Output : -336"
   ]
  },
  {
   "cell_type": "code",
   "execution_count": 17,
   "metadata": {},
   "outputs": [
    {
     "name": "stdout",
     "output_type": "stream",
     "text": [
      "-336\n"
     ]
    }
   ],
   "source": [
    "# your code goes here\n",
    "#list1 = [8, 2, 3, -1, 7]\n",
    "#res=1\n",
    "#for i in list1:\n",
    "    res=res*i\n",
    "#print(res)\n",
    "    \n"
   ]
  },
  {
   "cell_type": "code",
   "execution_count": 29,
   "metadata": {},
   "outputs": [],
   "source": [
    "def mul_list(list2):\n",
    "    res=1\n",
    "    for i in list2:\n",
    "        res=res*i\n",
    "    print(res)\n",
    "    \n",
    "\n",
    "    "
   ]
  },
  {
   "cell_type": "code",
   "execution_count": 30,
   "metadata": {},
   "outputs": [
    {
     "name": "stdout",
     "output_type": "stream",
     "text": [
      "-336\n"
     ]
    }
   ],
   "source": [
    "mul_list([8, 2, 3, -1, 7])"
   ]
  },
  {
   "cell_type": "markdown",
   "metadata": {},
   "source": [
    "#### Q 2 Write a Python function that checks whether a passed string is palindrome or not"
   ]
  },
  {
   "cell_type": "code",
   "execution_count": 32,
   "metadata": {},
   "outputs": [
    {
     "name": "stdout",
     "output_type": "stream",
     "text": [
      "Enter string:nirin\n",
      "The string is a palindrome\n"
     ]
    }
   ],
   "source": [
    "# your code goes \n",
    "str1=input(\"Enter string:\")\n",
    "if(str1==str1[::-1]):\n",
    "   print(\"The string is a palindrome\")\n",
    "else:\n",
    "   print(\"The string isn't a palindrome\")"
   ]
  },
  {
   "cell_type": "markdown",
   "metadata": {},
   "source": [
    "#### Q 3 Write a Python function that accepts a hyphen-separated sequence of words as input and prints the words in a hyphen-separated sequence after sorting them alphabetically. Go to the editor\n",
    "#### Sample Items : green-red-yellow-black-white\n",
    "#### Expected Result : black-green-red-white-yellow"
   ]
  },
  {
   "cell_type": "code",
   "execution_count": 44,
   "metadata": {},
   "outputs": [
    {
     "name": "stdout",
     "output_type": "stream",
     "text": [
      " green-red-yellow-black-white\n",
      " green-black-red-white-yellow\n"
     ]
    }
   ],
   "source": [
    "# your code goes here\n",
    "str1=[n for n in input().split('-')]\n",
    "str1.sort()\n",
    "print('-'.join(str1))"
   ]
  },
  {
   "cell_type": "markdown",
   "metadata": {},
   "source": [
    "#### Q 4 Write a Python program to access a function inside a function"
   ]
  },
  {
   "cell_type": "code",
   "execution_count": 37,
   "metadata": {},
   "outputs": [
    {
     "name": "stdout",
     "output_type": "stream",
     "text": [
      "9\n"
     ]
    }
   ],
   "source": [
    "# your code goes here\n",
    "def first_fun(a):\n",
    "        def addition(b):\n",
    "                nonlocal a\n",
    "                a += 1\n",
    "                return a+b\n",
    "        return addition\n",
    "funct= first_fun(4)\n",
    "print(funct(4))"
   ]
  },
  {
   "cell_type": "markdown",
   "metadata": {},
   "source": [
    "#### Q 5 Please write a program using generator to print the even numbers between 0 and n in comma separated form while n is input by console.\n",
    "#### Example: If the following n is given as input to the program: 10\n",
    "####Then, the output of the program should be: 0,2,4,6,8,10"
   ]
  },
  {
   "cell_type": "code",
   "execution_count": 49,
   "metadata": {},
   "outputs": [
    {
     "name": "stdout",
     "output_type": "stream",
     "text": [
      "enter value till you want even: 15\n",
      "0,2,4,6,8,10,12,14,"
     ]
    }
   ],
   "source": [
    "x= int(input(\"enter value till you want even: \"))\n",
    "for i in range(0,x+1):\n",
    "    if i%2==0:\n",
    "        print(i,end=\",\")"
   ]
  },
  {
   "cell_type": "markdown",
   "metadata": {},
   "source": [
    "#### Q 6 By using list comprehension, please write a program to print the list after removing the 0th, 2nd, 4th,6th numbers in [12,24,35,70,88,120,155]."
   ]
  },
  {
   "cell_type": "code",
   "execution_count": 61,
   "metadata": {},
   "outputs": [
    {
     "name": "stdout",
     "output_type": "stream",
     "text": [
      "[24, 70, 120]\n"
     ]
    }
   ],
   "source": [
    "list2 = [12,24,35,70,88,120,155]\n",
    "list2 = [x for (i,x) in enumerate(list2) if i not in (0,2,4,6)]\n",
    "print(list2)"
   ]
  },
  {
   "cell_type": "markdown",
   "metadata": {},
   "source": [
    "#### Q 7 By using list comprehension, please write a program generate a 3*5*8 3D array whose each element is 0.\n",
    "#### Hints: Use list comprehension to make an array."
   ]
  },
  {
   "cell_type": "code",
   "execution_count": 56,
   "metadata": {},
   "outputs": [
    {
     "name": "stdout",
     "output_type": "stream",
     "text": [
      "[[['0', '0', '0'], ['0', '0', '0'], ['0', '0', '0'], ['0', '0', '0'], ['0', '0', '0']], [['0', '0', '0'], ['0', '0', '0'], ['0', '0', '0'], ['0', '0', '0'], ['0', '0', '0']], [['0', '0', '0'], ['0', '0', '0'], ['0', '0', '0'], ['0', '0', '0'], ['0', '0', '0']], [['0', '0', '0'], ['0', '0', '0'], ['0', '0', '0'], ['0', '0', '0'], ['0', '0', '0']], [['0', '0', '0'], ['0', '0', '0'], ['0', '0', '0'], ['0', '0', '0'], ['0', '0', '0']], [['0', '0', '0'], ['0', '0', '0'], ['0', '0', '0'], ['0', '0', '0'], ['0', '0', '0']], [['0', '0', '0'], ['0', '0', '0'], ['0', '0', '0'], ['0', '0', '0'], ['0', '0', '0']], [['0', '0', '0'], ['0', '0', '0'], ['0', '0', '0'], ['0', '0', '0'], ['0', '0', '0']]]\n"
     ]
    }
   ],
   "source": [
    "dArray = [[ ['0' for col in range(3)] for col in range(5)] for row in range(8)]\n",
    "print(dArray)"
   ]
  },
  {
   "cell_type": "markdown",
   "metadata": {},
   "source": [
    "#### 8. Write a function that asks for an integer input and prints its square. Use a while loop with a try, except, else block to account for incorrect inputs. "
   ]
  },
  {
   "cell_type": "code",
   "execution_count": null,
   "metadata": {},
   "outputs": [],
   "source": []
  },
  {
   "cell_type": "markdown",
   "metadata": {},
   "source": [
    "### Q 9. Handle the exception thrown by the code below by using try and except blocks. Also identify the type of error."
   ]
  },
  {
   "cell_type": "code",
   "execution_count": 8,
   "metadata": {},
   "outputs": [
    {
     "name": "stdout",
     "output_type": "stream",
     "text": [
      "enter num: j\n",
      "can't multiply sequence by non-int of type 'str':( \n"
     ]
    }
   ],
   "source": [
    "\n",
    "try:\n",
    "    num=int(input(\"enter num: \"))\n",
    "    num= num*num\n",
    "    print(num)\n",
    "\n",
    "except ValueError:\n",
    "    print(\"can't multiply sequence by non-int of type 'str':( \")\n",
    "    "
   ]
  },
  {
   "cell_type": "markdown",
   "metadata": {},
   "source": [
    "### Q 10. divide a number by other and when there is divide-by-zero situation, raise ZeroDivisionError.\n",
    "\n",
    "Eg. \n",
    "1. 5 / 2 => print 2.5\n",
    "2. 5 / 0 => print ZeroDivisionError\n"
   ]
  },
  {
   "cell_type": "code",
   "execution_count": 108,
   "metadata": {},
   "outputs": [
    {
     "name": "stdout",
     "output_type": "stream",
     "text": [
      "numerator: 5\n",
      "denomerator: 0\n",
      "sorry can't be divisible by zero :-(\n"
     ]
    }
   ],
   "source": [
    "try:\n",
    "    x=int(input(\"numerator: \"))\n",
    "    y=int(input(\"denomerator: \"))\n",
    "    res=x/y\n",
    "    print(res)\n",
    "except ZeroDivisionError:\n",
    "    print(\"sorry can't be divisible by zero :-(\")"
   ]
  },
  {
   "cell_type": "code",
   "execution_count": null,
   "metadata": {},
   "outputs": [],
   "source": []
  }
 ],
 "metadata": {
  "interpreter": {
   "hash": "916dbcbb3f70747c44a77c7bcd40155683ae19c65e1c03b4aa3499c5328201f1"
  },
  "kernelspec": {
   "display_name": "Python 3 (ipykernel)",
   "language": "python",
   "name": "python3"
  },
  "language_info": {
   "codemirror_mode": {
    "name": "ipython",
    "version": 3
   },
   "file_extension": ".py",
   "mimetype": "text/x-python",
   "name": "python",
   "nbconvert_exporter": "python",
   "pygments_lexer": "ipython3",
   "version": "3.9.7"
  }
 },
 "nbformat": 4,
 "nbformat_minor": 2
}
