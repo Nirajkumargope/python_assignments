{
 "cells": [
  {
   "cell_type": "markdown",
   "id": "33d29cde",
   "metadata": {},
   "source": [
    "# Assignment  8"
   ]
  },
  {
   "cell_type": "markdown",
   "id": "bbcc9cb9",
   "metadata": {},
   "source": [
    "### 1. Write a Python program to create a Vehicle class with name, max_speed and mileage instance attributes also create one class attributes.\n",
    "also print the speed and mileage using the above class"
   ]
  },
  {
   "cell_type": "code",
   "execution_count": 5,
   "id": "1da9afda",
   "metadata": {},
   "outputs": [],
   "source": [
    "class vehicle:\n",
    "    def __init__(self, max_speed, mileage):\n",
    "        self.max_speed = max_speed\n",
    "        self.mileage = mileage"
   ]
  },
  {
   "cell_type": "code",
   "execution_count": 6,
   "id": "579c88fc",
   "metadata": {},
   "outputs": [
    {
     "name": "stdout",
     "output_type": "stream",
     "text": [
      "240 18\n"
     ]
    }
   ],
   "source": [
    "Classic350 = vehicle(240, 18)\n",
    "print(Classic350.max_speed,Classic350.mileage)"
   ]
  },
  {
   "cell_type": "markdown",
   "id": "fa4b4f51",
   "metadata": {},
   "source": [
    "### 2.Define a class attribute”color” with a default value white. I.e., Every Vehicle should be white."
   ]
  },
  {
   "cell_type": "code",
   "execution_count": null,
   "id": "b3496bb3",
   "metadata": {},
   "outputs": [],
   "source": []
  },
  {
   "cell_type": "code",
   "execution_count": 11,
   "id": "bc372cb3",
   "metadata": {},
   "outputs": [
    {
     "name": "stdout",
     "output_type": "stream",
     "text": [
      "White Maybach 650 Speed: 330 Mileage: 9\n",
      "White RR Defender Speed: 335 Mileage: 11\n"
     ]
    }
   ],
   "source": [
    "class vehicle:\n",
    "    color = \"White\"\n",
    "\n",
    "    def __init__(self, name, max_speed, mileage):\n",
    "        self.name = name\n",
    "        self.max_speed = max_speed\n",
    "        self.mileage = mileage\n",
    "\n",
    "class Bus(vehicle):\n",
    "    pass\n",
    "\n",
    "class Car(vehicle):\n",
    "    pass\n",
    "\n",
    "School_bus = Bus(\"Maybach 650\", 330, 9)\n",
    "print(School_bus.color, School_bus.name, \"Speed:\", School_bus.max_speed, \"Mileage:\", School_bus.mileage)\n",
    "\n",
    "car = Car(\"RR Defender\", 335, 11)\n",
    "print(car.color, car.name, \"Speed:\", car.max_speed, \"Mileage:\", car.mileage)\n"
   ]
  },
  {
   "cell_type": "markdown",
   "id": "00da6d05",
   "metadata": {},
   "source": [
    "### 3. Give the vehicle class and the sub class bus a capacity argument seating_capacity and give a deafault value of     50 to the seating capacity in the bus sub class."
   ]
  },
  {
   "cell_type": "code",
   "execution_count": 13,
   "id": "df6ebdb3",
   "metadata": {},
   "outputs": [
    {
     "name": "stdout",
     "output_type": "stream",
     "text": [
      "The seating capacity of a Maybach 650 is 50 passengers\n"
     ]
    }
   ],
   "source": [
    "class vehicle:\n",
    "    def __init__(self, name, max_speed, mileage):\n",
    "        self.name = name\n",
    "        self.max_speed = max_speed\n",
    "        self.mileage = mileage\n",
    "\n",
    "    def seating_capacity(self, capacity):\n",
    "        return f\"The seating capacity of a {self.name} is {capacity} passengers\"\n",
    "\n",
    "class Bus(vehicle):\n",
    "    def seating_capacity(self, capacity=50):\n",
    "        return super().seating_capacity(capacity=50)\n",
    "\n",
    "School_bus = Bus(\"Maybach 650\", 180, 12)\n",
    "print(School_bus.seating_capacity())"
   ]
  },
  {
   "cell_type": "markdown",
   "id": "a6bd1817",
   "metadata": {},
   "source": [
    "### 4.Define a property that must have the same value for every class instance (object)\n",
    "      * create another sub class car \n",
    "      * Define a class attribute”color” with a default value white. I.e., Every Vehicle should be white.\n",
    "      * Variables created in .__init__() are called instance variables.they are specific to a particular instance of the class.\n",
    "      * The class variable is shared between all class instances."
   ]
  },
  {
   "cell_type": "code",
   "execution_count": null,
   "id": "a6e5ab37",
   "metadata": {},
   "outputs": [],
   "source": []
  }
 ],
 "metadata": {
  "kernelspec": {
   "display_name": "Python 3 (ipykernel)",
   "language": "python",
   "name": "python3"
  },
  "language_info": {
   "codemirror_mode": {
    "name": "ipython",
    "version": 3
   },
   "file_extension": ".py",
   "mimetype": "text/x-python",
   "name": "python",
   "nbconvert_exporter": "python",
   "pygments_lexer": "ipython3",
   "version": "3.9.7"
  }
 },
 "nbformat": 4,
 "nbformat_minor": 5
}
