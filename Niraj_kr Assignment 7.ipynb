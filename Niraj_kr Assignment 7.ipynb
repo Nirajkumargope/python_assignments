{
 "cells": [
  {
   "cell_type": "markdown",
   "metadata": {},
   "source": [
    "# Assignment 7"
   ]
  },
  {
   "cell_type": "markdown",
   "metadata": {},
   "source": [
    "1. Using recursion, find y th power of a given number x.\n",
    "\n",
    "Ex. x = 2, y = 6\n",
    "output = 64"
   ]
  },
  {
   "cell_type": "code",
   "execution_count": 21,
   "metadata": {},
   "outputs": [
    {
     "name": "stdout",
     "output_type": "stream",
     "text": [
      "15625\n"
     ]
    }
   ],
   "source": [
    "# your code goes here\n",
    "def pow_(x, y):\n",
    "    if y == 0: \n",
    "        return 1\n",
    "    \n",
    "    return x * pow_(x, y-1)\n",
    "\n",
    "print(pow_(5,6))"
   ]
  },
  {
   "cell_type": "markdown",
   "metadata": {},
   "source": [
    "2. Reverse a string using a recursive function."
   ]
  },
  {
   "cell_type": "code",
   "execution_count": 22,
   "metadata": {},
   "outputs": [
    {
     "data": {
      "text/plain": [
       "'eroM'"
      ]
     },
     "execution_count": 22,
     "metadata": {},
     "output_type": "execute_result"
    }
   ],
   "source": [
    "# your code goes here\n",
    "def rev_(a):\n",
    "    if len(a) == 0:\n",
    "        return a\n",
    "    else:\n",
    "        return rev_(a[1:]) + a[0]\n",
    "\n",
    "rev_(\"More\")"
   ]
  },
  {
   "cell_type": "markdown",
   "metadata": {},
   "source": [
    "3. Find all possible permutation of a given string using recursion.\n",
    "\n",
    "Eg. input = \"abc\"\n",
    "output = ['abc', 'acb', 'bac', 'bca', 'cab', 'cba']"
   ]
  },
  {
   "cell_type": "code",
   "execution_count": 23,
   "metadata": {},
   "outputs": [
    {
     "name": "stdout",
     "output_type": "stream",
     "text": [
      "['abc', 'acb', 'bac', 'bca', 'cab', 'cba']\n"
     ]
    }
   ],
   "source": [
    "# your code goes here\n",
    "def permutation(sen):\n",
    "    result = []\n",
    "\n",
    "    if len(sen) == 1:\n",
    "        result = [sen]\n",
    "    else:\n",
    "        for index, letter in enumerate(sen):\n",
    "            \n",
    "              for perm in permutation(sen[:index] + sen[index+1:]):\n",
    "                result.append(letter + perm)\n",
    "\n",
    "    return result\n",
    "\n",
    "\n",
    "per_str = 'abc'\n",
    "output = permutation(per_str)\n",
    "print(output)\n",
    "        "
   ]
  },
  {
   "cell_type": "markdown",
   "metadata": {},
   "source": [
    "### 4. Using recursion, find fibonacci series up to given length.\n",
    "\n",
    "Eg. input = 8\n",
    "output = [0,1,1,2,3,5,8,13]"
   ]
  },
  {
   "cell_type": "code",
   "execution_count": 24,
   "metadata": {},
   "outputs": [
    {
     "data": {
      "text/plain": [
       "[0, 1, 1, 2, 3, 5, 8, 13, 21, 34, 55, 89]"
      ]
     },
     "execution_count": 24,
     "metadata": {},
     "output_type": "execute_result"
    }
   ],
   "source": [
    "def fib(a,x):\n",
    "  if a==0:\n",
    "    return x\n",
    "  if len(x)==0:\n",
    "    x.append(0)\n",
    "    return fib(a-1,x)\n",
    "  if len(x)==1:\n",
    "    x.append(1)\n",
    "    return fib(a-1,x)\n",
    "  x.append(sum(x[-2:]))\n",
    "  return fib(a-1,x)\n",
    "\n",
    "x=[] \n",
    "fib(12,x) "
   ]
  },
  {
   "cell_type": "markdown",
   "metadata": {},
   "source": [
    "5.Find minimum number of coins to add up to given SUM. The available denominations for coins are 1, 5 and 10.\n",
    "\n",
    "Eg.\n",
    "Input: 15\n",
    "OUTPUT: 2 indicates we need minimum of 2 coins change to make total of 15 from given changes of coin\n",
    "5+10=15 so len(5,10) is 2 "
   ]
  },
  {
   "cell_type": "code",
   "execution_count": 25,
   "metadata": {},
   "outputs": [
    {
     "name": "stdout",
     "output_type": "stream",
     "text": [
      "2\n"
     ]
    }
   ],
   "source": [
    "# your code goes here\n",
    "def rec_coin(target, coins):\n",
    "\n",
    "    min_coins  = target\n",
    "\n",
    "    if target in coins:\n",
    "        return 1\n",
    "\n",
    "    for chutta in [paisa for paisa in coins if paisa <= target]:\n",
    "\n",
    "        num_coins = 1 + rec_coin(target-chutta, coins)\n",
    "\n",
    "        if num_coins < min_coins:\n",
    "            min_coins = num_coins\n",
    "\n",
    "    return min_coins\n",
    "\n",
    "\n",
    "all_coins = [1,5,10]\n",
    "total = 15\n",
    "print(rec_coin(total, all_coins))"
   ]
  },
  {
   "cell_type": "markdown",
   "metadata": {},
   "source": [
    "6. Write a recursive function to find GCD of two numbers."
   ]
  },
  {
   "cell_type": "markdown",
   "metadata": {},
   "source": [
    "7. An English Imperial Ruler: Draw a 3 inch imperial scale ruler.\n",
    "\n",
    "Output:\n",
    "```\n",
    "---- 0\n",
    "-\n",
    "--\n",
    "-\n",
    "---\n",
    "-\n",
    "--\n",
    "-\n",
    "---- 1\n",
    "-\n",
    "--\n",
    "-\n",
    "---\n",
    "-\n",
    "--\n",
    "-\n",
    "---- 2\n",
    "-\n",
    "--\n",
    "-\n",
    "---\n",
    "-\n",
    "--\n",
    "-\n",
    "---- 3\n",
    "```"
   ]
  },
  {
   "cell_type": "code",
   "execution_count": 26,
   "metadata": {},
   "outputs": [
    {
     "name": "stdout",
     "output_type": "stream",
     "text": [
      "\n",
      "----0\n",
      "-\n",
      "--\n",
      "-\n",
      "---\n",
      "-\n",
      "--\n",
      "-\n",
      "----1\n",
      "-\n",
      "--\n",
      "-\n",
      "---\n",
      "-\n",
      "--\n",
      "-\n",
      "----2\n",
      "-\n",
      "--\n",
      "-\n",
      "---\n",
      "-\n",
      "--\n",
      "-\n",
      "----3\n"
     ]
    }
   ],
   "source": [
    "# your code goes here\n",
    "def ruler(x):\n",
    "    if x == 0:\n",
    "        return (f\"\\n----{x}\")\n",
    "    return   ruler(x-1) + \"\\n-\" +\"\\n--\" + \"\\n-\" + \"\\n---\"+\"\\n-\"+\"\\n--\"+\"\\n-\"+f\"\\n----{x}\"\n",
    "\n",
    "print(ruler(3))"
   ]
  },
  {
   "cell_type": "markdown",
   "metadata": {},
   "source": [
    "8.Write a Python program to calculate the geometric sum of n-1. \n",
    "Note: In mathematics, a geometric series is a series with a constant ratio between successive terms."
   ]
  },
  {
   "cell_type": "code",
   "execution_count": 27,
   "metadata": {},
   "outputs": [
    {
     "data": {
      "text/plain": [
       "1.9921875"
      ]
     },
     "execution_count": 27,
     "metadata": {},
     "output_type": "execute_result"
    }
   ],
   "source": [
    "# your code goes here\n",
    "def geo_sum(a):\n",
    "    if a < 0:\n",
    "        return 0\n",
    "    else:\n",
    "        return (1/2)**a + geo_sum(a-1)\n",
    "    \n",
    "geo_sum(7)\n",
    "        "
   ]
  },
  {
   "cell_type": "markdown",
   "metadata": {},
   "source": [
    "9 Write a Python program to create a Vehicle class with name, max_speed and mileage instance attributes.\n",
    "also print the speed and mileage using the above class"
   ]
  },
  {
   "cell_type": "code",
   "execution_count": 28,
   "metadata": {},
   "outputs": [
    {
     "name": "stdout",
     "output_type": "stream",
     "text": [
      "200\n",
      "15\n"
     ]
    }
   ],
   "source": [
    "class vehicle():\n",
    "    \n",
    "    def __init__(self, name, max_speed, milg):\n",
    "        self.name = name\n",
    "        self.max_speed = max_speed\n",
    "        self.milg = milg\n",
    "        \n",
    "    def speed(self):\n",
    "        print(self.max_speed)\n",
    "        \n",
    "    def mileage(self):\n",
    "        print(self.milg)\n",
    "        \n",
    "car = vehicle(\"BMW\", \"200\", \"15\")\n",
    "\n",
    "car.speed()\n",
    "car.mileage()\n"
   ]
  },
  {
   "cell_type": "markdown",
   "metadata": {},
   "source": [
    "10. .Create a child class Bus that will inherit all of the variables and methods of the Vehicle class.\n",
    "also print the speed and mileage of the bus.\n"
   ]
  },
  {
   "cell_type": "code",
   "execution_count": 19,
   "metadata": {},
   "outputs": [],
   "source": [
    "class Vehicle :\n",
    "    def __init__(self, name, max_speed, milg):\n",
    "        self.name = name\n",
    "        self.max_speed = max_speed\n",
    "        self.milg = milg\n",
    "    def details(self):\n",
    "        print(self.name,self.max_speed,self.milg )\n",
    "        \n",
    "class Bus(Vehicle):\n",
    "    pass"
   ]
  },
  {
   "cell_type": "code",
   "execution_count": 20,
   "metadata": {},
   "outputs": [
    {
     "name": "stdout",
     "output_type": "stream",
     "text": [
      "SKODA 150 12\n"
     ]
    }
   ],
   "source": [
    "p = Bus(\"SKODA\", 150, 12)\n",
    "p.details()"
   ]
  },
  {
   "cell_type": "code",
   "execution_count": null,
   "metadata": {},
   "outputs": [],
   "source": []
  },
  {
   "cell_type": "code",
   "execution_count": null,
   "metadata": {},
   "outputs": [],
   "source": []
  }
 ],
 "metadata": {
  "interpreter": {
   "hash": "916dbcbb3f70747c44a77c7bcd40155683ae19c65e1c03b4aa3499c5328201f1"
  },
  "kernelspec": {
   "display_name": "Python 3 (ipykernel)",
   "language": "python",
   "name": "python3"
  },
  "language_info": {
   "codemirror_mode": {
    "name": "ipython",
    "version": 3
   },
   "file_extension": ".py",
   "mimetype": "text/x-python",
   "name": "python",
   "nbconvert_exporter": "python",
   "pygments_lexer": "ipython3",
   "version": "3.9.7"
  }
 },
 "nbformat": 4,
 "nbformat_minor": 2
}
